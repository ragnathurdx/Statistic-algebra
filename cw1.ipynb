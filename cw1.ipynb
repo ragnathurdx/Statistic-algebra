{
 "cells": [
  {
   "cell_type": "code",
   "execution_count": 8,
   "metadata": {},
   "outputs": [
    {
     "name": "stdout",
     "output_type": "stream",
     "text": [
      "       iso_numeric    year  source_drs_year_new  e_rr_pct_new  \\\n",
      "count   215.000000   215.0           215.000000    215.000000   \n",
      "mean    433.200000  2019.0          2017.297674      3.512140   \n",
      "std     253.222672     0.0             3.139252      5.987073   \n",
      "min       4.000000  2019.0          2005.000000      0.000000   \n",
      "25%     213.000000  2019.0          2017.000000      0.955000   \n",
      "50%     434.000000  2019.0          2019.000000      2.200000   \n",
      "75%     644.500000  2019.0          2019.000000      2.600000   \n",
      "max     894.000000  2019.0          2019.000000     38.000000   \n",
      "\n",
      "       e_rr_pct_new_lo  e_rr_pct_new_hi  e_mdr_pct_rr_new  \\\n",
      "count       215.000000       215.000000        215.000000   \n",
      "mean          2.438791        11.982791         83.316279   \n",
      "std           5.628021        20.325138         19.979019   \n",
      "min           0.000000         0.500000          0.000000   \n",
      "25%           0.200000         3.150000         76.000000   \n",
      "50%           0.890000         4.100000         86.000000   \n",
      "75%           1.500000         8.200000         97.000000   \n",
      "max          35.000000        98.000000        100.000000   \n",
      "\n",
      "       source_drs_year_ret  e_rr_pct_ret  e_rr_pct_ret_lo  e_rr_pct_ret_hi  \\\n",
      "count           215.000000    215.000000       215.000000       215.000000   \n",
      "mean           2017.265116     15.951628         9.861535        30.727442   \n",
      "std               2.826682     17.013919        12.275926        24.546761   \n",
      "min            2005.000000      0.000000         0.000000         4.500000   \n",
      "25%            2017.000000      6.650000         1.750000        16.000000   \n",
      "50%            2019.000000     12.000000         7.300000        19.000000   \n",
      "75%            2019.000000     18.000000        10.000000        41.000000   \n",
      "max            2019.000000    100.000000        73.000000       100.000000   \n",
      "\n",
      "       e_mdr_pct_rr_ret   e_inc_rr_num  e_inc_rr_num_lo  e_inc_rr_num_hi  \\\n",
      "count        215.000000     215.000000       215.000000       215.000000   \n",
      "mean          85.334884    2164.976744      1338.204651      3200.627907   \n",
      "std           20.357998   10355.802947      6503.912749     15249.525121   \n",
      "min            0.000000       0.000000         0.000000         0.000000   \n",
      "25%           80.500000       3.000000         1.000000        10.000000   \n",
      "50%           94.000000      74.000000        30.000000       120.000000   \n",
      "75%          100.000000     635.000000       350.000000      1100.000000   \n",
      "max          100.000000  124000.000000     73000.000000    189000.000000   \n",
      "\n",
      "       e_mdr_pct_rr  e_rr_in_notified_labconf_pulm  \\\n",
      "count    199.000000                     204.000000   \n",
      "mean      81.000000                     958.460784   \n",
      "std       22.210426                    4511.624079   \n",
      "min        0.000000                       0.000000   \n",
      "25%       74.000000                       2.000000   \n",
      "50%       88.000000                      47.500000   \n",
      "75%       95.500000                     272.500000   \n",
      "max      100.000000                   48000.000000   \n",
      "\n",
      "       e_rr_in_notified_labconf_pulm_lo  e_rr_in_notified_labconf_pulm_hi  \n",
      "count                        204.000000                        204.000000  \n",
      "mean                         818.754902                       1104.544118  \n",
      "std                         4041.710263                       5009.761894  \n",
      "min                            0.000000                          0.000000  \n",
      "25%                            0.000000                          6.000000  \n",
      "50%                           21.000000                         64.000000  \n",
      "75%                          170.000000                        360.000000  \n",
      "max                        42000.000000                      53000.000000  \n"
     ]
    }
   ],
   "source": [
    "import numpy as np\n",
    "import pandas as pd\n",
    "import scipy as sp\n",
    "import statistics as stat\n",
    "\n",
    "data1 = pd.read_csv('MDR_RR_TB_burden_estimates_2021-01-27.csv')\n",
    "\n",
    "d = data1.describe()\n",
    "\n",
    "print(d)"
   ]
  },
  {
   "cell_type": "code",
   "execution_count": 10,
   "metadata": {},
   "outputs": [
    {
     "name": "stdout",
     "output_type": "stream",
     "text": [
      "16.42182908777933\n",
      "269.6764705882353\n"
     ]
    }
   ],
   "source": [
    "data2 = np.loadtxt('Wzrost.csv', delimiter=',',skiprows=0)\n",
    "\n",
    "print(stat.stdev(data2))\n",
    "print(stat.variance(data2))"
   ]
  },
  {
   "cell_type": "code",
   "execution_count": 14,
   "metadata": {},
   "outputs": [
    {
     "name": "stdout",
     "output_type": "stream",
     "text": [
      "     mies   rok   pepsi  fanta   żywiec  okocim  regionalne    cola   lech\n",
      "0       1  2001  108447   43302  186385   54301       45065  227013  56306\n",
      "1       2  2001  105439   46711  168782   68131       43933  221115  67212\n",
      "2       3  2001  111675   36029  172186   63104       46663  222812  67398\n",
      "3       4  2001  113232   33659  172445   50871       45195  238631  57100\n",
      "4       5  2001  110274   40853  174526   67924       47926  222963  65001\n",
      "..    ...   ...     ...     ...     ...     ...         ...     ...    ...\n",
      "187     8  2016  105949   43017  169329   64262       58101  222531  58037\n",
      "188     9  2016  103420   44310  173923   67591       44565  230270  65156\n",
      "189    10  2016  120363   50688  175856   63791       51376  247155  59276\n",
      "190    11  2016  101215   41924  175914   62570       59505  240524  61765\n",
      "191    12  2016  114300   42314  178209   65923       58508  223129  68106\n",
      "\n",
      "[192 rows x 9 columns]\n",
      "Trimmed mean:  81161.92824074074\n",
      "Skewness:  [ 0.          0.          0.12713208 -0.27707351 -0.1814685  -0.35486957\n",
      "  0.99593968  0.00253576  0.07375449]\n",
      "Variation:  [0.531085   0.00229513 0.04833283 0.1197374  0.0261857  0.07737617\n",
      " 0.0841451  0.04192199 0.081249  ]\n",
      "Kurtosis:  [-1.21678322 -1.20941176 -0.17710545  0.2543811  -0.35708017 -0.13690868\n",
      "  0.99084614  0.33825298 -0.38566446]\n"
     ]
    }
   ],
   "source": [
    "from scipy import stats as scs\n",
    "\n",
    "data3 = pd.read_csv('napoje.csv', sep=';', na_values='.')\n",
    "\n",
    "trimmedmean = scs.tmean(data3)\n",
    "skewness = scs.skew(data3)\n",
    "variation = scs.variation(data3)\n",
    "kurtosis = scs.kurtosis(data3)\n",
    "\n",
    "print(data3)\n",
    "print(\"Trimmed mean: \", trimmedmean)\n",
    "print(\"Skewness: \", skewness)\n",
    "print(\"Variation: \", variation)\n",
    "print(\"Kurtosis: \", kurtosis)"
   ]
  },
  {
   "cell_type": "code",
   "execution_count": 23,
   "metadata": {},
   "outputs": [
    {
     "name": "stdout",
     "output_type": "stream",
     "text": [
      "Mean of VIQ column:  112.35\n",
      "The count of genders:  Male      20\n",
      "Female    20\n",
      "Name: Gender, dtype: int64\n"
     ]
    },
    {
     "data": {
      "image/png": "[encoded data removed]",
      "text/plain": [
       "<Figure size 432x288 with 1 Axes>"
      ]
     },
     "metadata": {
      "needs_background": "light"
     },
     "output_type": "display_data"
    },
    {
     "data": {
      "image/png": "[encoded data removed]",
      "text/plain": [
       "<Figure size 432x288 with 1 Axes>"
      ]
     },
     "metadata": {
      "needs_background": "light"
     },
     "output_type": "display_data"
    },
    {
     "data": {
      "image/png": "[encoded data removed]",
      "text/plain": [
       "<Figure size 432x288 with 1 Axes>"
      ]
     },
     "metadata": {
      "needs_background": "light"
     },
     "output_type": "display_data"
    },
    {
     "data": {
      "image/png": "[encoded data removed]",
      "text/plain": [
       "<Figure size 432x288 with 1 Axes>"
      ]
     },
     "metadata": {
      "needs_background": "light"
     },
     "output_type": "display_data"
    }
   ],
   "source": [
    "import matplotlib.pyplot as plt\n",
    "\n",
    "data4 = pd.read_csv('brain_size.csv', sep=';', na_values='.');\n",
    "print('Mean of VIQ column: ', data4['VIQ'].mean())\n",
    "\n",
    "g = data4['Gender'].value_counts()\n",
    "print(\"The count of genders: \", g)\n",
    "\n",
    "d1 = data4['VIQ'].hist(bins=3)\n",
    "plt.show()\n",
    "\n",
    "d2 = data4['PIQ'].hist(bins=3)\n",
    "plt.show()\n",
    "\n",
    "d3 = data4['FSIQ'].hist(bins=3)\n",
    "plt.show()\n",
    "\n",
    "data4[data4['Gender'] == 'Female']['VIQ'].hist()\n",
    "data4[data4['Gender'] == 'Female']['PIQ'].hist()\n",
    "data4[data4['Gender'] == 'Female']['FSIQ'].hist()\n",
    "plt.show()"
   ]
  },
  {
   "cell_type": "code",
   "execution_count": null,
   "metadata": {},
   "outputs": [],
   "source": [
    "    "
   ]
  }
 ],
 "metadata": {
  "kernelspec": {
   "display_name": "Python 3",
   "language": "python",
   "name": "python3"
  },
  "language_info": {
   "codemirror_mode": {
    "name": "ipython",
    "version": 3
   },
   "file_extension": ".py",
   "mimetype": "text/x-python",
   "name": "python",
   "nbconvert_exporter": "python",
   "pygments_lexer": "ipython3",
   "version": "3.7.6"
  }
 },
 "nbformat": 4,
 "nbformat_minor": 4
}
