{
 "cells": [
  {
   "cell_type": "code",
   "execution_count": 54,
   "metadata": {},
   "outputs": [
    {
     "name": "stdout",
     "output_type": "stream",
     "text": [
      "0.5524758193950824\n",
      "Wartosc P: 0.3505086285878116\n",
      "Przyjmujemy hipoteze.\n"
     ]
    }
   ],
   "source": [
    "import scipy.stats as scs\n",
    "import pandas as pd\n",
    "import pylab\n",
    "\n",
    "#zad1\n",
    "\n",
    "rozk_norm = scs.norm.rvs(size=200,loc=2,scale=30)\n",
    "sr_rozk = rozk_norm.mean()\n",
    "print(sr_rozk)\n",
    "\n",
    "t, p = scs.ttest_1samp(rozk_norm,2.5)\n",
    "print('Wartosc P:', p)\n",
    "if p > 0.05:\n",
    "    print('Przyjmujemy hipoteze.')\n",
    "else:\n",
    "    print('Odrzucamy hipoteze.')\n"
   ]
  },
  {
   "cell_type": "code",
   "execution_count": 55,
   "metadata": {},
   "outputs": [
    {
     "name": "stdout",
     "output_type": "stream",
     "text": [
      "Test Lech:\n",
      "61091.348958333336\n",
      "Ttest_1sampResult(statistic=1.646503944538866, pvalue=0.10130442686854732)\n",
      "\n",
      "Test Cola:\n",
      "226389.46875\n",
      "Ttest_1sampResult(statistic=6.391908975571081, pvalue=1.2249714535216758e-09)\n",
      "\n",
      "Test Regionalne:\n",
      "48668.036458333336\n",
      "Ttest_1sampResult(statistic=17.440927488514944, pvalue=2.2572528828603765e-41)\n"
     ]
    }
   ],
   "source": [
    "#zad2\n",
    "\n",
    "data = pd.read_csv('napoje.csv', delimiter=\";\")\n",
    "\n",
    "tlech = scs.ttest_1samp(data['lech'], 60500)\n",
    "print('Test Lech:')\n",
    "print(data['lech'].mean())\n",
    "print(tlech)\n",
    "\n",
    "tcola = scs.ttest_1samp(data['cola'], 222000)\n",
    "print('\\nTest Cola:')\n",
    "print(data['cola'].mean())\n",
    "print(tcola)\n",
    "\n",
    "tregio = scs.ttest_1samp(data['regionalne'], 43500)\n",
    "print('\\nTest Regionalne:')\n",
    "print(data['regionalne'].mean())\n",
    "print(tregio)"
   ]
  },
  {
   "cell_type": "code",
   "execution_count": 56,
   "metadata": {},
   "outputs": [
    {
     "name": "stdout",
     "output_type": "stream",
     "text": [
      "Zmienna pepsi wykazuje normalnosc. 0.7200062116206445\n",
      "Zmienna żywiec wykazuje normalnosc. 0.34024553142391856\n",
      "Zmienna cola wykazuje normalnosc. 0.5358705042542622\n",
      "Zmienna lech wykazuje normalnosc. 0.4732014584808095\n"
     ]
    }
   ],
   "source": [
    "#zad3\n",
    "\n",
    "a = 0.2\n",
    "\n",
    "for napoj in data.columns:\n",
    "    p = scs.normaltest(data[napoj])[1]\n",
    "    if(p > a):\n",
    "        print('Zmienna ' + napoj + ' wykazuje normalnosc.', p)"
   ]
  },
  {
   "cell_type": "code",
   "execution_count": 57,
   "metadata": {},
   "outputs": [
    {
     "name": "stdout",
     "output_type": "stream",
     "text": [
      "okocim - lech:  Ttest_indResult(statistic=-0.8323919685480173, pvalue=0.4057078093583595)\n",
      "\n",
      "cola – pepsi:  Ttest_indResult(statistic=145.61815604546564, pvalue=0.0)\n"
     ]
    }
   ],
   "source": [
    "#zad4\n",
    "\n",
    "print('okocim - lech: ', scs.ttest_ind(data['okocim'], data['lech']))\n",
    "\n",
    "#print('\\nfanta – regionalne: ', scs.ttest_ind(data['fanta'], data['regionalne']))\n",
    "#nie dziala mi cos ta fanta :((\n",
    "\n",
    "print('\\ncola – pepsi: ', scs.ttest_ind(data['cola'], data['pepsi']))"
   ]
  },
  {
   "cell_type": "code",
   "execution_count": 58,
   "metadata": {},
   "outputs": [
    {
     "name": "stdout",
     "output_type": "stream",
     "text": [
      "okocim-lech: LeveneResult(statistic=1.191182232831977, pvalue=0.2757791126546958)\n",
      "regionalne-cola: LeveneResult(statistic=83.85984593010029, pvalue=3.275749775904902e-18)\n"
     ]
    }
   ],
   "source": [
    "#zad5\n",
    "\n",
    "#tutaj tak samo nie dziala fanta, nie wiem o co chodzi ale wstawiam tak jak powinno byc gdyby dzialalo\n",
    "\n",
    "okocimlech = scs.levene(data['okocim'], data['lech'])\n",
    "\n",
    "#zywiecfanta = scs.levene(data['żywiec'], data['fanta'])\n",
    "\n",
    "regionalnecola = scs.levene(data['regionalne'], data['cola'])\n",
    "\n",
    "\n",
    "\n",
    "print('okocim-lech:', okocimlech)\n",
    "\n",
    "#print('żywiec-fanta:', zywiecfanta)\n",
    "\n",
    "print('regionalne-cola:', regionalnecola)"
   ]
  },
  {
   "cell_type": "code",
   "execution_count": 59,
   "metadata": {},
   "outputs": [
    {
     "name": "stdout",
     "output_type": "stream",
     "text": [
      "Ttest_relResult(statistic=-4.981131079425873, pvalue=0.00041469788280755834)\n"
     ]
    }
   ],
   "source": [
    "#zad6\n",
    "\n",
    "srednie = scs.ttest_rel(data.loc[data['rok'] == 2001]['regionalne'], data.loc[data['rok'] == 2015]['regionalne'])\n",
    "\n",
    "print(srednie)"
   ]
  },
  {
   "cell_type": "code",
   "execution_count": 62,
   "metadata": {},
   "outputs": [
    {
     "name": "stdout",
     "output_type": "stream",
     "text": [
      "Ttest_relResult(statistic=0.11032676911481809, pvalue=0.9141373808316627)\n",
      "Ttest_relResult(statistic=-0.20520478240138976, pvalue=0.8411601080767367)\n"
     ]
    }
   ],
   "source": [
    "#zad7\n",
    "\n",
    "data1 = pd.read_csv('napoje_po_reklamie.csv', delimiter = \";\")\n",
    "\n",
    "cola = scs.ttest_rel(data.loc[data[\"rok\"] == 2016]['cola'], data1['cola'])\n",
    "\n",
    "#tutaj to samo - powinno dzialac ale wyskakuja errory z ta fanta\n",
    "#fanta = scs.ttest_rel(data.loc[data[\"rok\"] == 2016]['fanta'], data1['fanta '])\n",
    "pepsi = scs.ttest_rel(data.loc[data[\"rok\"] == 2016]['pepsi'], data1['pepsi'])\n",
    "\n",
    "print(cola)\n",
    "#print(fanta)\n",
    "print(pepsi)"
   ]
  },
  {
   "cell_type": "code",
   "execution_count": null,
   "metadata": {},
   "outputs": [],
   "source": []
  }
 ],
 "metadata": {
  "kernelspec": {
   "display_name": "Python 3",
   "language": "python",
   "name": "python3"
  },
  "language_info": {
   "codemirror_mode": {
    "name": "ipython",
    "version": 3
   },
   "file_extension": ".py",
   "mimetype": "text/x-python",
   "name": "python",
   "nbconvert_exporter": "python",
   "pygments_lexer": "ipython3",
   "version": "3.7.6"
  }
 },
 "nbformat": 4,
 "nbformat_minor": 4
}
